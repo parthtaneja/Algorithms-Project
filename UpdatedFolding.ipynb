{
  "nbformat": 4,
  "nbformat_minor": 0,
  "metadata": {
    "kernelspec": {
      "display_name": "Python 3",
      "language": "python",
      "name": "python3"
    },
    "language_info": {
      "codemirror_mode": {
        "name": "ipython",
        "version": 3
      },
      "file_extension": ".py",
      "mimetype": "text/x-python",
      "name": "python",
      "nbconvert_exporter": "python",
      "pygments_lexer": "ipython3",
      "version": "3.7.1"
    },
    "colab": {
      "name": "Copy of Copy of Algo.ipynb",
      "provenance": [],
      "collapsed_sections": []
    }
  },
  "cells": [
    {
      "cell_type": "markdown",
      "metadata": {
        "id": "fW_QGEIj0gfv",
        "colab_type": "text"
      },
      "source": [
        "## Importing the required packages"
      ]
    },
    {
      "cell_type": "code",
      "metadata": {
        "id": "Y88EPMiy0gfx",
        "colab_type": "code",
        "colab": {}
      },
      "source": [
        "import matplotlib.pyplot as plt\n",
        "import pandas as pd\n",
        "import pylab as pl\n",
        "import numpy as np\n",
        "import time\n",
        "import math\n",
        "%matplotlib inline"
      ],
      "execution_count": 0,
      "outputs": []
    },
    {
      "cell_type": "markdown",
      "metadata": {
        "id": "kgfSLnbk0nhT",
        "colab_type": "text"
      },
      "source": [
        "## About the dataset: (Synthetic)\n",
        "#### Library dataset with the ID's of the students stored who enter the library through the E-Gates.\n",
        "We convert the dataset from a Panda's dataframe to an Array using numpy. The integer values are stored in the array called \"Hash_values\".\n",
        "\n",
        "There are 1068 entries (number of values to be hashed 'n'). As we are considering Open Address hashing, we do not want load factor (n/h, where 'h' is the size of the hash table) to ever exceed 1. Therefore, we choose a prime near the value of n and greater than it. Therefore, h = 1069, which is define as \"hash_size\"."
      ]
    },
    {
      "cell_type": "code",
      "metadata": {
        "scrolled": true,
        "id": "CNUzaeyE0gf0",
        "colab_type": "code",
        "outputId": "81523ac0-3114-42e6-a14e-e9dd80432f7a",
        "colab": {
          "base_uri": "https://localhost:8080/",
          "height": 204
        }
      },
      "source": [
        "url = 'https://raw.githubusercontent.com/arjunmann73/Machine-Learning/master/Regression/Simple%20Multivariate%20Linear%20Regression/FuelConsumption.csv'\n",
        "csv_data = pd.read_csv(url)\n",
        "csv_data.head()"
      ],
      "execution_count": 40,
      "outputs": [
        {
          "output_type": "execute_result",
          "data": {
            "text/html": [
              "<div>\n",
              "<style scoped>\n",
              "    .dataframe tbody tr th:only-of-type {\n",
              "        vertical-align: middle;\n",
              "    }\n",
              "\n",
              "    .dataframe tbody tr th {\n",
              "        vertical-align: top;\n",
              "    }\n",
              "\n",
              "    .dataframe thead th {\n",
              "        text-align: right;\n",
              "    }\n",
              "</style>\n",
              "<table border=\"1\" class=\"dataframe\">\n",
              "  <thead>\n",
              "    <tr style=\"text-align: right;\">\n",
              "      <th></th>\n",
              "      <th>MODELYEAR</th>\n",
              "      <th>MAKE</th>\n",
              "      <th>MODEL</th>\n",
              "      <th>VEHICLECLASS</th>\n",
              "      <th>ENGINESIZE</th>\n",
              "      <th>CYLINDERS</th>\n",
              "      <th>TRANSMISSION</th>\n",
              "      <th>FUELTYPE</th>\n",
              "      <th>FUELCONSUMPTION_CITY</th>\n",
              "      <th>FUELCONSUMPTION_HWY</th>\n",
              "      <th>FUELCONSUMPTION_COMB</th>\n",
              "      <th>FUELCONSUMPTION_COMB_MPG</th>\n",
              "      <th>CO2EMISSIONS</th>\n",
              "    </tr>\n",
              "  </thead>\n",
              "  <tbody>\n",
              "    <tr>\n",
              "      <th>0</th>\n",
              "      <td>2014</td>\n",
              "      <td>ACURA</td>\n",
              "      <td>ILX</td>\n",
              "      <td>COMPACT</td>\n",
              "      <td>2.0</td>\n",
              "      <td>4</td>\n",
              "      <td>AS5</td>\n",
              "      <td>Z</td>\n",
              "      <td>9.9</td>\n",
              "      <td>6.7</td>\n",
              "      <td>8.5</td>\n",
              "      <td>33</td>\n",
              "      <td>196</td>\n",
              "    </tr>\n",
              "    <tr>\n",
              "      <th>1</th>\n",
              "      <td>2014</td>\n",
              "      <td>ACURA</td>\n",
              "      <td>ILX</td>\n",
              "      <td>COMPACT</td>\n",
              "      <td>2.4</td>\n",
              "      <td>4</td>\n",
              "      <td>M6</td>\n",
              "      <td>Z</td>\n",
              "      <td>11.2</td>\n",
              "      <td>7.7</td>\n",
              "      <td>9.6</td>\n",
              "      <td>29</td>\n",
              "      <td>221</td>\n",
              "    </tr>\n",
              "    <tr>\n",
              "      <th>2</th>\n",
              "      <td>2014</td>\n",
              "      <td>ACURA</td>\n",
              "      <td>ILX HYBRID</td>\n",
              "      <td>COMPACT</td>\n",
              "      <td>1.5</td>\n",
              "      <td>4</td>\n",
              "      <td>AV7</td>\n",
              "      <td>Z</td>\n",
              "      <td>6.0</td>\n",
              "      <td>5.8</td>\n",
              "      <td>5.9</td>\n",
              "      <td>48</td>\n",
              "      <td>136</td>\n",
              "    </tr>\n",
              "    <tr>\n",
              "      <th>3</th>\n",
              "      <td>2014</td>\n",
              "      <td>ACURA</td>\n",
              "      <td>MDX 4WD</td>\n",
              "      <td>SUV - SMALL</td>\n",
              "      <td>3.5</td>\n",
              "      <td>6</td>\n",
              "      <td>AS6</td>\n",
              "      <td>Z</td>\n",
              "      <td>12.7</td>\n",
              "      <td>9.1</td>\n",
              "      <td>11.1</td>\n",
              "      <td>25</td>\n",
              "      <td>255</td>\n",
              "    </tr>\n",
              "    <tr>\n",
              "      <th>4</th>\n",
              "      <td>2014</td>\n",
              "      <td>ACURA</td>\n",
              "      <td>RDX AWD</td>\n",
              "      <td>SUV - SMALL</td>\n",
              "      <td>3.5</td>\n",
              "      <td>6</td>\n",
              "      <td>AS6</td>\n",
              "      <td>Z</td>\n",
              "      <td>12.1</td>\n",
              "      <td>8.7</td>\n",
              "      <td>10.6</td>\n",
              "      <td>27</td>\n",
              "      <td>244</td>\n",
              "    </tr>\n",
              "  </tbody>\n",
              "</table>\n",
              "</div>"
            ],
            "text/plain": [
              "   MODELYEAR   MAKE  ... FUELCONSUMPTION_COMB_MPG CO2EMISSIONS\n",
              "0       2014  ACURA  ...                       33          196\n",
              "1       2014  ACURA  ...                       29          221\n",
              "2       2014  ACURA  ...                       48          136\n",
              "3       2014  ACURA  ...                       25          255\n",
              "4       2014  ACURA  ...                       27          244\n",
              "\n",
              "[5 rows x 13 columns]"
            ]
          },
          "metadata": {
            "tags": []
          },
          "execution_count": 40
        }
      ]
    },
    {
      "cell_type": "code",
      "metadata": {
        "id": "M2ruAXry0gf7",
        "colab_type": "code",
        "colab": {}
      },
      "source": [
        "data = csv_data[\"CO2EMISSIONS\"]\n",
        "Hash_values = np.asanyarray(data)"
      ],
      "execution_count": 0,
      "outputs": []
    },
    {
      "cell_type": "code",
      "metadata": {
        "id": "BhTQ3Cer0gf-",
        "colab_type": "code",
        "outputId": "0c28d22a-f0e0-4529-ce1f-52546eff0ddf",
        "colab": {
          "base_uri": "https://localhost:8080/",
          "height": 34
        }
      },
      "source": [
        "Hash_values = Hash_values*10\n",
        "Hash_values"
      ],
      "execution_count": 42,
      "outputs": [
        {
          "output_type": "execute_result",
          "data": {
            "text/plain": [
              "array([1960, 2210, 1360, ..., 2710, 2600, 2940])"
            ]
          },
          "metadata": {
            "tags": []
          },
          "execution_count": 42
        }
      ]
    },
    {
      "cell_type": "code",
      "metadata": {
        "id": "pbWZMluZ0ggB",
        "colab_type": "code",
        "colab": {}
      },
      "source": [
        "hash_table_double1 = [None] * 1069\n",
        "hash_table_double2 = [None] * 1069\n",
        "hash_size = 1069"
      ],
      "execution_count": 0,
      "outputs": []
    },
    {
      "cell_type": "code",
      "metadata": {
        "id": "MYBZ85qJ0ggE",
        "colab_type": "code",
        "colab": {}
      },
      "source": [
        "def Auxiliary(k):\n",
        "    return (k % hash_size)\n",
        "\n",
        "def Folding(k):\n",
        "    k = k*k\n",
        "    c = bin(k)\n",
        "    c = c[2:]\n",
        "    c = c[0:5] + c[len(c)-5]\n",
        "    c = int(c)\n",
        "    return c\n",
        "\n",
        "def Congruential(k):\n",
        "  a = 6 * math.floor(hash_size/29) + 7 \n",
        "  return (a*k)%hash_size"
      ],
      "execution_count": 0,
      "outputs": []
    },
    {
      "cell_type": "code",
      "metadata": {
        "id": "edW13Lfm0ggI",
        "colab_type": "code",
        "colab": {}
      },
      "source": [
        "def Hash_Folding(k, i):\n",
        "    return (Auxiliary(k) + i*Folding(k)) % hash_size\n",
        "\n",
        "def Hash_Congruential(k, i):\n",
        "    return (Auxiliary(k) + i*Congruential(k)) % hash_size"
      ],
      "execution_count": 0,
      "outputs": []
    },
    {
      "cell_type": "code",
      "metadata": {
        "id": "1dNGdTsu0ggL",
        "colab_type": "code",
        "colab": {}
      },
      "source": [
        "def hash_double_fold(key):\n",
        "    i = 0 \n",
        "    while(i != 1068):\n",
        "        j = Hash_Folding(key, i)\n",
        "        if(hash_table_double1[j] == None):\n",
        "            hash_table_double1[j] = key;\n",
        "            #print(j, key)\n",
        "            return \n",
        "        else:\n",
        "            i += 1\n",
        "    print(\"Overflow\")"
      ],
      "execution_count": 0,
      "outputs": []
    },
    {
      "cell_type": "code",
      "metadata": {
        "id": "SUTxZ1Fo0ggO",
        "colab_type": "code",
        "colab": {}
      },
      "source": [
        "def lookup_folding(val):\n",
        "    code = Auxiliary(val)\n",
        "    loc = code\n",
        "    flag = 0\n",
        "    i = 0\n",
        "    while(hash_table_double1[loc] != None):\n",
        "        if(hash_table_double1[loc] == val):\n",
        "            #print(\"Succesful\")\n",
        "            flag = 1\n",
        "            break;\n",
        "        else:\n",
        "            i+=1\n",
        "            loc = Hash_Folding(val, i)\n",
        "            if(loc == code):\n",
        "                break;\n",
        "    #print(\"Number of key comparisions: \", i+1)\n",
        "    #if(flag==0):\n",
        "        #print(\"Number does not exist in the table\")\n",
        "    return [i+1, flag]"
      ],
      "execution_count": 0,
      "outputs": []
    },
    {
      "cell_type": "markdown",
      "metadata": {
        "id": "WHNVdoXh9OgM",
        "colab_type": "text"
      },
      "source": [
        "## Load Factor ≅ 1"
      ]
    },
    {
      "cell_type": "code",
      "metadata": {
        "id": "cn60jVIq9bWp",
        "colab_type": "code",
        "colab": {}
      },
      "source": [
        "for j in range(1067):\n",
        "    hash_double_fold(Hash_values[j])"
      ],
      "execution_count": 0,
      "outputs": []
    },
    {
      "cell_type": "markdown",
      "metadata": {
        "id": "XlzolwBwE3Lg",
        "colab_type": "text"
      },
      "source": [
        "#### Time Analysis and Number of Key Comparisions for Load Factor ≅ 1"
      ]
    },
    {
      "cell_type": "code",
      "metadata": {
        "id": "aQ58ICD30ggR",
        "colab_type": "code",
        "outputId": "00d6d108-178c-4b03-9575-85331898831f",
        "colab": {
          "base_uri": "https://localhost:8080/",
          "height": 85
        }
      },
      "source": [
        "#val = (int)(input(\"Enter value to be searched: \"))\n",
        "import random\n",
        "\n",
        "value_success = []\n",
        "value_fail = []\n",
        "comparisions_success = []\n",
        "comparisions_fail = []\n",
        "time_taken_success = []\n",
        "time_taken_fail = []\n",
        "\n",
        "for x in range(10000):\n",
        "  \n",
        "  j = random.randint(180,420)\n",
        "  j = j*10\n",
        "  \n",
        "  start_time = time.time()\n",
        "  a = lookup_folding(j)\n",
        "  \n",
        "  temp = (time.time() - start_time)*1000\n",
        "  \n",
        "  if(a[1]):\n",
        "    comparisions_success.append(a[0])\n",
        "    time_taken_success.append(temp)\n",
        "    value_success.append(j)\n",
        "    \n",
        "  else:\n",
        "    comparisions_fail.append(a[0])\n",
        "    time_taken_fail.append(temp)\n",
        "    value_fail.append(j)\n",
        "\n",
        "'''  \n",
        "print(\"Successful Searches: \" , len(value_success))\n",
        "for i in range(len(value_success)):\n",
        "  print(\"Value: \" , value_success[i] , \" Number of comparisions: \", comparisions_success[i] , \" Time taken: \", time_taken_success[i])\n",
        "  \n",
        "\n",
        "print(\"Unsuccessful Searches: \" , len(value_fail))\n",
        "for i in range(len(value_fail)):\n",
        "  print(\"Value: \" , value_fail[i] , \" Number of comparisions: \", comparisions_fail[i] , \" Time taken: \", time_taken_fail[i])\n",
        "'''\n",
        "\n",
        "print(\"Successful Searches: \" , len(value_success))\n",
        "print(\"Average Comparisions: \" , sum(comparisions_success)/len(comparisions_success) , \" Average time taken in milliseconds: \" , (sum(time_taken_success)/len(time_taken_success))*1000)\n",
        "print(\"Unsuccessful Searches: \", len(value_fail))\n",
        "print(\"Average Comparisions: \" , sum(comparisions_fail)/len(comparisions_fail) , \" Average time taken in milliseconds: \" , (sum(time_taken_fail)/len(time_taken_fail))*1000)"
      ],
      "execution_count": 59,
      "outputs": [
        {
          "output_type": "stream",
          "text": [
            "Successful Searches:  5274\n",
            "Average Comparisions:  2.030716723549488  Average time taken in milliseconds:  2.405206769264056\n",
            "Unsuccessful Searches:  4726\n",
            "Average Comparisions:  337.17414303851035  Average time taken in milliseconds:  440.2313301031538\n"
          ],
          "name": "stdout"
        }
      ]
    },
    {
      "cell_type": "code",
      "metadata": {
        "id": "4FkPP5_s0ggU",
        "colab_type": "code",
        "colab": {}
      },
      "source": [
        "def hash_double_congruential(key):\n",
        "    i = 0\n",
        "    while(i != 1068):\n",
        "        j = Hash_Congruential(key, i)\n",
        "        if(hash_table_double2[j] == None):\n",
        "            hash_table_double2[j] = key;\n",
        "            #print(j, key)\n",
        "            return \n",
        "        else:\n",
        "            i += 1\n",
        "    print(\"Number of key comparisions: \", i+1)\n",
        "    print(\"Overflow\")\n",
        "\n",
        "for j in range(1067):\n",
        "    hash_double_congruential(Hash_values[j])\n",
        "    \n",
        "def lookup2(val):\n",
        "    code = auxiliary(val)\n",
        "    loc = code\n",
        "    flag = 0\n",
        "    i = 0\n",
        "    while(hash_table_double2[loc] != None):\n",
        "        if(hash_table_double2[loc] == val):\n",
        "            print(\"Succesful\")\n",
        "            flag = 1\n",
        "            break;\n",
        "        else:\n",
        "            i+=1\n",
        "            loc = Hash_Congruential(val, i)\n",
        "            if(loc == code):\n",
        "                break;\n",
        "    print(\"Number of key comparisions: \", i+1)\n",
        "    if(flag==0):\n",
        "        print(\"Number does not exist in the table\")"
      ],
      "execution_count": 0,
      "outputs": []
    },
    {
      "cell_type": "code",
      "metadata": {
        "id": "yavaeBH10ggW",
        "colab_type": "code",
        "colab": {}
      },
      "source": [
        "val = (int)(input(\"Enter value to be searched: \"))\n",
        "start_time = time.time()\n",
        "lookup2(val)\n",
        "print(\"CPU time taken : %s seconds\" % (time.time() - start_time))"
      ],
      "execution_count": 0,
      "outputs": []
    },
    {
      "cell_type": "code",
      "metadata": {
        "id": "eVfM3TSy0ggY",
        "colab_type": "code",
        "outputId": "18f47cc4-57a3-4cf9-b382-87ce0b81781a",
        "colab": {
          "base_uri": "https://localhost:8080/",
          "height": 70
        }
      },
      "source": [
        "a = 10124212\n",
        "c = bin(a)\n",
        "c = c[2:]\n",
        "print(c)\n",
        "c = c[(int)(len(c)/3):(int)((len(c)*2)/3)]\n",
        "print(c)\n",
        "c = int(c,2)\n",
        "print(c)"
      ],
      "execution_count": 0,
      "outputs": [
        {
          "output_type": "stream",
          "text": [
            "100110100111101110110100\n",
            "01111011\n",
            "123\n"
          ],
          "name": "stdout"
        }
      ]
    },
    {
      "cell_type": "code",
      "metadata": {
        "id": "o8A_2NPd0gga",
        "colab_type": "code",
        "colab": {}
      },
      "source": [
        ""
      ],
      "execution_count": 0,
      "outputs": []
    }
  ]
}